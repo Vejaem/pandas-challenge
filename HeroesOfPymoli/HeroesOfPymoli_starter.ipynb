{
 "cells": [
  {
   "cell_type": "markdown",
   "metadata": {},
   "source": [
    "### Note\n",
    "* Instructions have been included for each segment. You do not have to follow them exactly, but they are included to help you think through the steps."
   ]
  },
  {
   "cell_type": "code",
   "execution_count": 126,
   "metadata": {},
   "outputs": [],
   "source": [
    "# Dependencies and Setup\n",
    "import pandas as pd\n",
    "\n",
    "# File to Load (Remember to Change These)\n",
    "file_to_load = \"Resources/purchase_data.csv\"\n",
    "\n",
    "# Read Purchasing File and store into Pandas data frame\n",
    "df = pd.read_csv(file_to_load)"
   ]
  },
  {
   "cell_type": "markdown",
   "metadata": {},
   "source": [
    "## Player Count"
   ]
  },
  {
   "cell_type": "markdown",
   "metadata": {},
   "source": [
    "* Display the total number of players\n"
   ]
  },
  {
   "cell_type": "code",
   "execution_count": 127,
   "metadata": {},
   "outputs": [
    {
     "data": {
      "text/html": [
       "<div>\n",
       "<style scoped>\n",
       "    .dataframe tbody tr th:only-of-type {\n",
       "        vertical-align: middle;\n",
       "    }\n",
       "\n",
       "    .dataframe tbody tr th {\n",
       "        vertical-align: top;\n",
       "    }\n",
       "\n",
       "    .dataframe thead th {\n",
       "        text-align: right;\n",
       "    }\n",
       "</style>\n",
       "<table border=\"1\" class=\"dataframe\">\n",
       "  <thead>\n",
       "    <tr style=\"text-align: right;\">\n",
       "      <th></th>\n",
       "      <th>Total Players</th>\n",
       "    </tr>\n",
       "  </thead>\n",
       "  <tbody>\n",
       "    <tr>\n",
       "      <th>0</th>\n",
       "      <td>576</td>\n",
       "    </tr>\n",
       "  </tbody>\n",
       "</table>\n",
       "</div>"
      ],
      "text/plain": [
       "   Total Players\n",
       "0            576"
      ]
     },
     "execution_count": 127,
     "metadata": {},
     "output_type": "execute_result"
    }
   ],
   "source": [
    "total_players = [len(df['SN'].unique())]\n",
    "total_players_df = pd.DataFrame({'Total Players': total_players})\n",
    "total_players_df.head()"
   ]
  },
  {
   "cell_type": "markdown",
   "metadata": {},
   "source": [
    "## Purchasing Analysis (Total)"
   ]
  },
  {
   "cell_type": "markdown",
   "metadata": {},
   "source": [
    "* Run basic calculations to obtain number of unique items, average price, etc.\n",
    "\n",
    "\n",
    "* Create a summary data frame to hold the results\n",
    "\n",
    "\n",
    "* Optional: give the displayed data cleaner formatting\n",
    "\n",
    "\n",
    "* Display the summary data frame\n"
   ]
  },
  {
   "cell_type": "code",
   "execution_count": 128,
   "metadata": {
    "scrolled": true
   },
   "outputs": [
    {
     "data": {
      "text/html": [
       "<style  type=\"text/css\" >\n",
       "</style><table id=\"T_90683be4_f138_11ea_9c72_9cfce813b842\" ><thead>    <tr>        <th class=\"blank level0\" ></th>        <th class=\"col_heading level0 col0\" >Number of Unique Items</th>        <th class=\"col_heading level0 col1\" >Average Purchase Price</th>        <th class=\"col_heading level0 col2\" >Total Number of Purchases</th>        <th class=\"col_heading level0 col3\" >Total Revenue</th>    </tr></thead><tbody>\n",
       "                <tr>\n",
       "                        <th id=\"T_90683be4_f138_11ea_9c72_9cfce813b842level0_row0\" class=\"row_heading level0 row0\" >0</th>\n",
       "                        <td id=\"T_90683be4_f138_11ea_9c72_9cfce813b842row0_col0\" class=\"data row0 col0\" >179</td>\n",
       "                        <td id=\"T_90683be4_f138_11ea_9c72_9cfce813b842row0_col1\" class=\"data row0 col1\" >$3.05</td>\n",
       "                        <td id=\"T_90683be4_f138_11ea_9c72_9cfce813b842row0_col2\" class=\"data row0 col2\" >780</td>\n",
       "                        <td id=\"T_90683be4_f138_11ea_9c72_9cfce813b842row0_col3\" class=\"data row0 col3\" >$2379.77</td>\n",
       "            </tr>\n",
       "    </tbody></table>"
      ],
      "text/plain": [
       "<pandas.io.formats.style.Styler at 0x25a9def5c48>"
      ]
     },
     "execution_count": 128,
     "metadata": {},
     "output_type": "execute_result"
    }
   ],
   "source": [
    "unique_items = df['Item Name'].unique()\n",
    "unique_items_count = [len(unique_items)]\n",
    "avg_purchase_price = [(df['Price'].sum()) / (df['Price'].count())]\n",
    "total_purchases = [df['Price'].count()]\n",
    "total_revenue = [df['Price'].sum()]\n",
    "purchase_analysis = pd.DataFrame({\n",
    "        'Number of Unique Items': unique_items_count, \n",
    "        'Average Purchase Price' : avg_purchase_price,\n",
    "        'Total Number of Purchases' : total_purchases,\n",
    "        'Total Revenue' : total_revenue})\n",
    "purchase_analysis.style.format({'Average Purchase Price':'${:.2f}', 'Total Revenue':'${:.2f}'})"
   ]
  },
  {
   "cell_type": "markdown",
   "metadata": {},
   "source": [
    "## Gender Demographics"
   ]
  },
  {
   "cell_type": "markdown",
   "metadata": {},
   "source": [
    "* Percentage and Count of Male Players\n",
    "\n",
    "\n",
    "* Percentage and Count of Female Players\n",
    "\n",
    "\n",
    "* Percentage and Count of Other / Non-Disclosed\n",
    "\n",
    "\n"
   ]
  },
  {
   "cell_type": "code",
   "execution_count": 129,
   "metadata": {},
   "outputs": [
    {
     "data": {
      "text/html": [
       "<style  type=\"text/css\" >\n",
       "</style><table id=\"T_906bbb58_f138_11ea_94fd_9cfce813b842\" ><thead>    <tr>        <th class=\"blank level0\" ></th>        <th class=\"col_heading level0 col0\" >Total Count</th>        <th class=\"col_heading level0 col1\" >Percentage of Players</th>    </tr>    <tr>        <th class=\"index_name level0\" >Gender</th>        <th class=\"blank\" ></th>        <th class=\"blank\" ></th>    </tr></thead><tbody>\n",
       "                <tr>\n",
       "                        <th id=\"T_906bbb58_f138_11ea_94fd_9cfce813b842level0_row0\" class=\"row_heading level0 row0\" >Female</th>\n",
       "                        <td id=\"T_906bbb58_f138_11ea_94fd_9cfce813b842row0_col0\" class=\"data row0 col0\" >81</td>\n",
       "                        <td id=\"T_906bbb58_f138_11ea_94fd_9cfce813b842row0_col1\" class=\"data row0 col1\" >14.06%</td>\n",
       "            </tr>\n",
       "            <tr>\n",
       "                        <th id=\"T_906bbb58_f138_11ea_94fd_9cfce813b842level0_row1\" class=\"row_heading level0 row1\" >Male</th>\n",
       "                        <td id=\"T_906bbb58_f138_11ea_94fd_9cfce813b842row1_col0\" class=\"data row1 col0\" >484</td>\n",
       "                        <td id=\"T_906bbb58_f138_11ea_94fd_9cfce813b842row1_col1\" class=\"data row1 col1\" >84.03%</td>\n",
       "            </tr>\n",
       "            <tr>\n",
       "                        <th id=\"T_906bbb58_f138_11ea_94fd_9cfce813b842level0_row2\" class=\"row_heading level0 row2\" >Other / Non-Disclosed</th>\n",
       "                        <td id=\"T_906bbb58_f138_11ea_94fd_9cfce813b842row2_col0\" class=\"data row2 col0\" >11</td>\n",
       "                        <td id=\"T_906bbb58_f138_11ea_94fd_9cfce813b842row2_col1\" class=\"data row2 col1\" >1.91%</td>\n",
       "            </tr>\n",
       "    </tbody></table>"
      ],
      "text/plain": [
       "<pandas.io.formats.style.Styler at 0x25a9de03f08>"
      ]
     },
     "execution_count": 129,
     "metadata": {},
     "output_type": "execute_result"
    }
   ],
   "source": [
    "gender_group = df.groupby(\"Gender\")\n",
    "\n",
    "total_by_gender = gender_group.nunique()[\"SN\"]\n",
    "\n",
    "percent_by_gender = total_by_gender / total_players \n",
    "\n",
    "gender_demo = pd.DataFrame({\"Total Count\" : total_by_gender, \"Percentage of Players\" : percent_by_gender})\n",
    "\n",
    "gender_demo.style.format({\"Percentage of Players\":\"{:.2%}\"})\n"
   ]
  },
  {
   "cell_type": "markdown",
   "metadata": {},
   "source": [
    "\n",
    "## Purchasing Analysis (Gender)"
   ]
  },
  {
   "cell_type": "markdown",
   "metadata": {},
   "source": [
    "* Run basic calculations to obtain purchase count, avg. purchase price, avg. purchase total per person etc. by gender\n",
    "\n",
    "\n",
    "\n",
    "\n",
    "* Create a summary data frame to hold the results\n",
    "\n",
    "\n",
    "* Optional: give the displayed data cleaner formatting\n",
    "\n",
    "\n",
    "* Display the summary data frame"
   ]
  },
  {
   "cell_type": "code",
   "execution_count": 130,
   "metadata": {},
   "outputs": [
    {
     "data": {
      "text/html": [
       "<style  type=\"text/css\" >\n",
       "</style><table id=\"T_906f13e4_f138_11ea_9a9b_9cfce813b842\" ><thead>    <tr>        <th class=\"blank level0\" ></th>        <th class=\"col_heading level0 col0\" >Purchase Count</th>        <th class=\"col_heading level0 col1\" >Average Purchase Price</th>        <th class=\"col_heading level0 col2\" >Total Purchase Value</th>        <th class=\"col_heading level0 col3\" >Avg Total Purchase per Person</th>    </tr>    <tr>        <th class=\"index_name level0\" >Gender</th>        <th class=\"blank\" ></th>        <th class=\"blank\" ></th>        <th class=\"blank\" ></th>        <th class=\"blank\" ></th>    </tr></thead><tbody>\n",
       "                <tr>\n",
       "                        <th id=\"T_906f13e4_f138_11ea_9a9b_9cfce813b842level0_row0\" class=\"row_heading level0 row0\" >Female</th>\n",
       "                        <td id=\"T_906f13e4_f138_11ea_9a9b_9cfce813b842row0_col0\" class=\"data row0 col0\" >113</td>\n",
       "                        <td id=\"T_906f13e4_f138_11ea_9a9b_9cfce813b842row0_col1\" class=\"data row0 col1\" >$3.20</td>\n",
       "                        <td id=\"T_906f13e4_f138_11ea_9a9b_9cfce813b842row0_col2\" class=\"data row0 col2\" >$361.94</td>\n",
       "                        <td id=\"T_906f13e4_f138_11ea_9a9b_9cfce813b842row0_col3\" class=\"data row0 col3\" >$4.47</td>\n",
       "            </tr>\n",
       "            <tr>\n",
       "                        <th id=\"T_906f13e4_f138_11ea_9a9b_9cfce813b842level0_row1\" class=\"row_heading level0 row1\" >Male</th>\n",
       "                        <td id=\"T_906f13e4_f138_11ea_9a9b_9cfce813b842row1_col0\" class=\"data row1 col0\" >652</td>\n",
       "                        <td id=\"T_906f13e4_f138_11ea_9a9b_9cfce813b842row1_col1\" class=\"data row1 col1\" >$3.02</td>\n",
       "                        <td id=\"T_906f13e4_f138_11ea_9a9b_9cfce813b842row1_col2\" class=\"data row1 col2\" >$1967.64</td>\n",
       "                        <td id=\"T_906f13e4_f138_11ea_9a9b_9cfce813b842row1_col3\" class=\"data row1 col3\" >$4.07</td>\n",
       "            </tr>\n",
       "            <tr>\n",
       "                        <th id=\"T_906f13e4_f138_11ea_9a9b_9cfce813b842level0_row2\" class=\"row_heading level0 row2\" >Other / Non-Disclosed</th>\n",
       "                        <td id=\"T_906f13e4_f138_11ea_9a9b_9cfce813b842row2_col0\" class=\"data row2 col0\" >15</td>\n",
       "                        <td id=\"T_906f13e4_f138_11ea_9a9b_9cfce813b842row2_col1\" class=\"data row2 col1\" >$3.35</td>\n",
       "                        <td id=\"T_906f13e4_f138_11ea_9a9b_9cfce813b842row2_col2\" class=\"data row2 col2\" >$50.19</td>\n",
       "                        <td id=\"T_906f13e4_f138_11ea_9a9b_9cfce813b842row2_col3\" class=\"data row2 col3\" >$4.56</td>\n",
       "            </tr>\n",
       "    </tbody></table>"
      ],
      "text/plain": [
       "<pandas.io.formats.style.Styler at 0x25a9df06b48>"
      ]
     },
     "execution_count": 130,
     "metadata": {},
     "output_type": "execute_result"
    }
   ],
   "source": [
    "purchase_count = gender_group['Price'].count()\n",
    "\n",
    "avg_purchase_price_gen = gender_group['Price'].mean()\n",
    "\n",
    "total_purchase_value = gender_group['Price'].sum()\n",
    "\n",
    "avg_total_person = total_purchase_value / total_by_gender\n",
    "\n",
    "gen_purch_analysis = pd. DataFrame({\n",
    "                                    'Purchase Count' : purchase_count, \n",
    "                                    'Average Purchase Price' : avg_purchase_price_gen,\n",
    "                                    'Total Purchase Value' : total_purchase_value,\n",
    "                                    'Avg Total Purchase per Person' : avg_total_person})\n",
    "\n",
    "gen_purch_analysis.style.format({'Average Purchase Price':'${:.2f}', 'Total Purchase Value':'${:.2f}', 'Avg Total Purchase per Person':'${:.2f}'})"
   ]
  },
  {
   "cell_type": "markdown",
   "metadata": {},
   "source": [
    "## Age Demographics"
   ]
  },
  {
   "cell_type": "markdown",
   "metadata": {},
   "source": [
    "* Establish bins for ages\n",
    "\n",
    "\n",
    "* Categorize the existing players using the age bins. Hint: use pd.cut()\n",
    "\n",
    "\n",
    "* Calculate the numbers and percentages by age group\n",
    "\n",
    "\n",
    "* Create a summary data frame to hold the results\n",
    "\n",
    "\n",
    "* Optional: round the percentage column to two decimal points\n",
    "\n",
    "\n",
    "* Display Age Demographics Table\n"
   ]
  },
  {
   "cell_type": "code",
   "execution_count": 131,
   "metadata": {},
   "outputs": [
    {
     "data": {
      "text/html": [
       "<style  type=\"text/css\" >\n",
       "</style><table id=\"T_90750236_f138_11ea_a531_9cfce813b842\" ><thead>    <tr>        <th class=\"blank level0\" ></th>        <th class=\"col_heading level0 col0\" >Total Count</th>        <th class=\"col_heading level0 col1\" >Percentage of Players</th>    </tr>    <tr>        <th class=\"index_name level0\" >Age Group</th>        <th class=\"blank\" ></th>        <th class=\"blank\" ></th>    </tr></thead><tbody>\n",
       "                <tr>\n",
       "                        <th id=\"T_90750236_f138_11ea_a531_9cfce813b842level0_row0\" class=\"row_heading level0 row0\" ><10</th>\n",
       "                        <td id=\"T_90750236_f138_11ea_a531_9cfce813b842row0_col0\" class=\"data row0 col0\" >17</td>\n",
       "                        <td id=\"T_90750236_f138_11ea_a531_9cfce813b842row0_col1\" class=\"data row0 col1\" >2.95%</td>\n",
       "            </tr>\n",
       "            <tr>\n",
       "                        <th id=\"T_90750236_f138_11ea_a531_9cfce813b842level0_row1\" class=\"row_heading level0 row1\" >10-14</th>\n",
       "                        <td id=\"T_90750236_f138_11ea_a531_9cfce813b842row1_col0\" class=\"data row1 col0\" >22</td>\n",
       "                        <td id=\"T_90750236_f138_11ea_a531_9cfce813b842row1_col1\" class=\"data row1 col1\" >3.82%</td>\n",
       "            </tr>\n",
       "            <tr>\n",
       "                        <th id=\"T_90750236_f138_11ea_a531_9cfce813b842level0_row2\" class=\"row_heading level0 row2\" >15-19</th>\n",
       "                        <td id=\"T_90750236_f138_11ea_a531_9cfce813b842row2_col0\" class=\"data row2 col0\" >107</td>\n",
       "                        <td id=\"T_90750236_f138_11ea_a531_9cfce813b842row2_col1\" class=\"data row2 col1\" >18.58%</td>\n",
       "            </tr>\n",
       "            <tr>\n",
       "                        <th id=\"T_90750236_f138_11ea_a531_9cfce813b842level0_row3\" class=\"row_heading level0 row3\" >20-24</th>\n",
       "                        <td id=\"T_90750236_f138_11ea_a531_9cfce813b842row3_col0\" class=\"data row3 col0\" >258</td>\n",
       "                        <td id=\"T_90750236_f138_11ea_a531_9cfce813b842row3_col1\" class=\"data row3 col1\" >44.79%</td>\n",
       "            </tr>\n",
       "            <tr>\n",
       "                        <th id=\"T_90750236_f138_11ea_a531_9cfce813b842level0_row4\" class=\"row_heading level0 row4\" >25-29</th>\n",
       "                        <td id=\"T_90750236_f138_11ea_a531_9cfce813b842row4_col0\" class=\"data row4 col0\" >77</td>\n",
       "                        <td id=\"T_90750236_f138_11ea_a531_9cfce813b842row4_col1\" class=\"data row4 col1\" >13.37%</td>\n",
       "            </tr>\n",
       "            <tr>\n",
       "                        <th id=\"T_90750236_f138_11ea_a531_9cfce813b842level0_row5\" class=\"row_heading level0 row5\" >30-34</th>\n",
       "                        <td id=\"T_90750236_f138_11ea_a531_9cfce813b842row5_col0\" class=\"data row5 col0\" >52</td>\n",
       "                        <td id=\"T_90750236_f138_11ea_a531_9cfce813b842row5_col1\" class=\"data row5 col1\" >9.03%</td>\n",
       "            </tr>\n",
       "            <tr>\n",
       "                        <th id=\"T_90750236_f138_11ea_a531_9cfce813b842level0_row6\" class=\"row_heading level0 row6\" >35-39</th>\n",
       "                        <td id=\"T_90750236_f138_11ea_a531_9cfce813b842row6_col0\" class=\"data row6 col0\" >31</td>\n",
       "                        <td id=\"T_90750236_f138_11ea_a531_9cfce813b842row6_col1\" class=\"data row6 col1\" >5.38%</td>\n",
       "            </tr>\n",
       "            <tr>\n",
       "                        <th id=\"T_90750236_f138_11ea_a531_9cfce813b842level0_row7\" class=\"row_heading level0 row7\" >>40+</th>\n",
       "                        <td id=\"T_90750236_f138_11ea_a531_9cfce813b842row7_col0\" class=\"data row7 col0\" >12</td>\n",
       "                        <td id=\"T_90750236_f138_11ea_a531_9cfce813b842row7_col1\" class=\"data row7 col1\" >2.08%</td>\n",
       "            </tr>\n",
       "    </tbody></table>"
      ],
      "text/plain": [
       "<pandas.io.formats.style.Styler at 0x25a9df02508>"
      ]
     },
     "execution_count": 131,
     "metadata": {},
     "output_type": "execute_result"
    }
   ],
   "source": [
    "bins = [0, 9.9, 14.9, 19.9, 24.9, 29.9, 34.9, 39.9, 200]\n",
    "group_names = ['<10', '10-14', '15-19', '20-24', '25-29', '30-34', '35-39', '>40+']\n",
    "\n",
    "df['Age Group'] = pd.cut(df['Age'], bins, labels=group_names, include_lowest=True)\n",
    "\n",
    "age_group = df.groupby(['Age Group'])\n",
    "\n",
    "total_by_age = age_group.nunique()['SN']\n",
    "\n",
    "percent_by_age = (total_by_age / total_players)\n",
    "\n",
    "age_demo = pd.DataFrame({'Total Count' : total_by_age, 'Percentage of Players' : percent_by_age})\n",
    "\n",
    "age_demo.style.format({'Percentage of Players':'{:.2%}'})"
   ]
  },
  {
   "cell_type": "markdown",
   "metadata": {},
   "source": [
    "## Purchasing Analysis (Age)"
   ]
  },
  {
   "cell_type": "markdown",
   "metadata": {},
   "source": [
    "* Bin the purchase_data data frame by age\n",
    "\n",
    "\n",
    "* Run basic calculations to obtain purchase count, avg. purchase price, avg. purchase total per person etc. in the table below\n",
    "\n",
    "\n",
    "* Create a summary data frame to hold the results\n",
    "\n",
    "\n",
    "* Optional: give the displayed data cleaner formatting\n",
    "\n",
    "\n",
    "* Display the summary data frame"
   ]
  },
  {
   "cell_type": "code",
   "execution_count": 132,
   "metadata": {},
   "outputs": [
    {
     "data": {
      "text/html": [
       "<style  type=\"text/css\" >\n",
       "</style><table id=\"T_9077bf38_f138_11ea_b990_9cfce813b842\" ><thead>    <tr>        <th class=\"blank level0\" ></th>        <th class=\"col_heading level0 col0\" >Purchase Count</th>        <th class=\"col_heading level0 col1\" >Average Purchase Price</th>        <th class=\"col_heading level0 col2\" >Total Purchase Value</th>        <th class=\"col_heading level0 col3\" >Avg Total Purchase per Person</th>    </tr>    <tr>        <th class=\"index_name level0\" >Age Group</th>        <th class=\"blank\" ></th>        <th class=\"blank\" ></th>        <th class=\"blank\" ></th>        <th class=\"blank\" ></th>    </tr></thead><tbody>\n",
       "                <tr>\n",
       "                        <th id=\"T_9077bf38_f138_11ea_b990_9cfce813b842level0_row0\" class=\"row_heading level0 row0\" ><10</th>\n",
       "                        <td id=\"T_9077bf38_f138_11ea_b990_9cfce813b842row0_col0\" class=\"data row0 col0\" >23</td>\n",
       "                        <td id=\"T_9077bf38_f138_11ea_b990_9cfce813b842row0_col1\" class=\"data row0 col1\" >$3.35</td>\n",
       "                        <td id=\"T_9077bf38_f138_11ea_b990_9cfce813b842row0_col2\" class=\"data row0 col2\" >$77.13</td>\n",
       "                        <td id=\"T_9077bf38_f138_11ea_b990_9cfce813b842row0_col3\" class=\"data row0 col3\" >$4.54</td>\n",
       "            </tr>\n",
       "            <tr>\n",
       "                        <th id=\"T_9077bf38_f138_11ea_b990_9cfce813b842level0_row1\" class=\"row_heading level0 row1\" >10-14</th>\n",
       "                        <td id=\"T_9077bf38_f138_11ea_b990_9cfce813b842row1_col0\" class=\"data row1 col0\" >28</td>\n",
       "                        <td id=\"T_9077bf38_f138_11ea_b990_9cfce813b842row1_col1\" class=\"data row1 col1\" >$2.96</td>\n",
       "                        <td id=\"T_9077bf38_f138_11ea_b990_9cfce813b842row1_col2\" class=\"data row1 col2\" >$82.78</td>\n",
       "                        <td id=\"T_9077bf38_f138_11ea_b990_9cfce813b842row1_col3\" class=\"data row1 col3\" >$3.76</td>\n",
       "            </tr>\n",
       "            <tr>\n",
       "                        <th id=\"T_9077bf38_f138_11ea_b990_9cfce813b842level0_row2\" class=\"row_heading level0 row2\" >15-19</th>\n",
       "                        <td id=\"T_9077bf38_f138_11ea_b990_9cfce813b842row2_col0\" class=\"data row2 col0\" >136</td>\n",
       "                        <td id=\"T_9077bf38_f138_11ea_b990_9cfce813b842row2_col1\" class=\"data row2 col1\" >$3.04</td>\n",
       "                        <td id=\"T_9077bf38_f138_11ea_b990_9cfce813b842row2_col2\" class=\"data row2 col2\" >$412.89</td>\n",
       "                        <td id=\"T_9077bf38_f138_11ea_b990_9cfce813b842row2_col3\" class=\"data row2 col3\" >$3.86</td>\n",
       "            </tr>\n",
       "            <tr>\n",
       "                        <th id=\"T_9077bf38_f138_11ea_b990_9cfce813b842level0_row3\" class=\"row_heading level0 row3\" >20-24</th>\n",
       "                        <td id=\"T_9077bf38_f138_11ea_b990_9cfce813b842row3_col0\" class=\"data row3 col0\" >365</td>\n",
       "                        <td id=\"T_9077bf38_f138_11ea_b990_9cfce813b842row3_col1\" class=\"data row3 col1\" >$3.05</td>\n",
       "                        <td id=\"T_9077bf38_f138_11ea_b990_9cfce813b842row3_col2\" class=\"data row3 col2\" >$1,114.06</td>\n",
       "                        <td id=\"T_9077bf38_f138_11ea_b990_9cfce813b842row3_col3\" class=\"data row3 col3\" >$4.32</td>\n",
       "            </tr>\n",
       "            <tr>\n",
       "                        <th id=\"T_9077bf38_f138_11ea_b990_9cfce813b842level0_row4\" class=\"row_heading level0 row4\" >25-29</th>\n",
       "                        <td id=\"T_9077bf38_f138_11ea_b990_9cfce813b842row4_col0\" class=\"data row4 col0\" >101</td>\n",
       "                        <td id=\"T_9077bf38_f138_11ea_b990_9cfce813b842row4_col1\" class=\"data row4 col1\" >$2.90</td>\n",
       "                        <td id=\"T_9077bf38_f138_11ea_b990_9cfce813b842row4_col2\" class=\"data row4 col2\" >$293.00</td>\n",
       "                        <td id=\"T_9077bf38_f138_11ea_b990_9cfce813b842row4_col3\" class=\"data row4 col3\" >$3.81</td>\n",
       "            </tr>\n",
       "            <tr>\n",
       "                        <th id=\"T_9077bf38_f138_11ea_b990_9cfce813b842level0_row5\" class=\"row_heading level0 row5\" >30-34</th>\n",
       "                        <td id=\"T_9077bf38_f138_11ea_b990_9cfce813b842row5_col0\" class=\"data row5 col0\" >73</td>\n",
       "                        <td id=\"T_9077bf38_f138_11ea_b990_9cfce813b842row5_col1\" class=\"data row5 col1\" >$2.93</td>\n",
       "                        <td id=\"T_9077bf38_f138_11ea_b990_9cfce813b842row5_col2\" class=\"data row5 col2\" >$214.00</td>\n",
       "                        <td id=\"T_9077bf38_f138_11ea_b990_9cfce813b842row5_col3\" class=\"data row5 col3\" >$4.12</td>\n",
       "            </tr>\n",
       "            <tr>\n",
       "                        <th id=\"T_9077bf38_f138_11ea_b990_9cfce813b842level0_row6\" class=\"row_heading level0 row6\" >35-39</th>\n",
       "                        <td id=\"T_9077bf38_f138_11ea_b990_9cfce813b842row6_col0\" class=\"data row6 col0\" >41</td>\n",
       "                        <td id=\"T_9077bf38_f138_11ea_b990_9cfce813b842row6_col1\" class=\"data row6 col1\" >$3.60</td>\n",
       "                        <td id=\"T_9077bf38_f138_11ea_b990_9cfce813b842row6_col2\" class=\"data row6 col2\" >$147.67</td>\n",
       "                        <td id=\"T_9077bf38_f138_11ea_b990_9cfce813b842row6_col3\" class=\"data row6 col3\" >$4.76</td>\n",
       "            </tr>\n",
       "            <tr>\n",
       "                        <th id=\"T_9077bf38_f138_11ea_b990_9cfce813b842level0_row7\" class=\"row_heading level0 row7\" >>40+</th>\n",
       "                        <td id=\"T_9077bf38_f138_11ea_b990_9cfce813b842row7_col0\" class=\"data row7 col0\" >13</td>\n",
       "                        <td id=\"T_9077bf38_f138_11ea_b990_9cfce813b842row7_col1\" class=\"data row7 col1\" >$2.94</td>\n",
       "                        <td id=\"T_9077bf38_f138_11ea_b990_9cfce813b842row7_col2\" class=\"data row7 col2\" >$38.24</td>\n",
       "                        <td id=\"T_9077bf38_f138_11ea_b990_9cfce813b842row7_col3\" class=\"data row7 col3\" >$3.19</td>\n",
       "            </tr>\n",
       "    </tbody></table>"
      ],
      "text/plain": [
       "<pandas.io.formats.style.Styler at 0x25a9df5d5c8>"
      ]
     },
     "execution_count": 132,
     "metadata": {},
     "output_type": "execute_result"
    }
   ],
   "source": [
    "purchase_count_age = age_group[\"Price\"].count()\n",
    "\n",
    "avg_purch_price_age = age_group['Price'].mean()\n",
    "\n",
    "total_purch_val_age = age_group['Price'].sum()\n",
    "\n",
    "avg_purch_person_age = total_purch_val_age / total_by_age\n",
    "\n",
    "age_purch_analysis = pd.DataFrame({'Purchase Count' : purchase_count_age, \n",
    "                                    'Average Purchase Price' : avg_purch_price_age,\n",
    "                                    'Total Purchase Value' : total_purch_val_age,\n",
    "                                    'Avg Total Purchase per Person' : avg_purch_person_age})\n",
    "age_purch_analysis.style.format({'Average Purchase Price':'${:.2f}', 'Total Purchase Value':'${:,.2f}', 'Avg Total Purchase per Person':'${:.2f}'})"
   ]
  },
  {
   "cell_type": "markdown",
   "metadata": {},
   "source": [
    "## Top Spenders"
   ]
  },
  {
   "cell_type": "markdown",
   "metadata": {},
   "source": [
    "* Run basic calculations to obtain the results in the table below\n",
    "\n",
    "\n",
    "* Create a summary data frame to hold the results\n",
    "\n",
    "\n",
    "* Sort the total purchase value column in descending order\n",
    "\n",
    "\n",
    "* Optional: give the displayed data cleaner formatting\n",
    "\n",
    "\n",
    "* Display a preview of the summary data frame\n",
    "\n"
   ]
  },
  {
   "cell_type": "code",
   "execution_count": 133,
   "metadata": {},
   "outputs": [
    {
     "data": {
      "text/html": [
       "<style  type=\"text/css\" >\n",
       "</style><table id=\"T_907c4f0c_f138_11ea_87a5_9cfce813b842\" ><thead>    <tr>        <th class=\"blank level0\" ></th>        <th class=\"col_heading level0 col0\" >Purchase Count</th>        <th class=\"col_heading level0 col1\" >Average Purchase price</th>        <th class=\"col_heading level0 col2\" >Total Purchase Value</th>    </tr>    <tr>        <th class=\"index_name level0\" >SN</th>        <th class=\"blank\" ></th>        <th class=\"blank\" ></th>        <th class=\"blank\" ></th>    </tr></thead><tbody>\n",
       "                <tr>\n",
       "                        <th id=\"T_907c4f0c_f138_11ea_87a5_9cfce813b842level0_row0\" class=\"row_heading level0 row0\" >Lisosia93</th>\n",
       "                        <td id=\"T_907c4f0c_f138_11ea_87a5_9cfce813b842row0_col0\" class=\"data row0 col0\" >5</td>\n",
       "                        <td id=\"T_907c4f0c_f138_11ea_87a5_9cfce813b842row0_col1\" class=\"data row0 col1\" >$3.79</td>\n",
       "                        <td id=\"T_907c4f0c_f138_11ea_87a5_9cfce813b842row0_col2\" class=\"data row0 col2\" >$18.96</td>\n",
       "            </tr>\n",
       "            <tr>\n",
       "                        <th id=\"T_907c4f0c_f138_11ea_87a5_9cfce813b842level0_row1\" class=\"row_heading level0 row1\" >Idastidru52</th>\n",
       "                        <td id=\"T_907c4f0c_f138_11ea_87a5_9cfce813b842row1_col0\" class=\"data row1 col0\" >4</td>\n",
       "                        <td id=\"T_907c4f0c_f138_11ea_87a5_9cfce813b842row1_col1\" class=\"data row1 col1\" >$3.86</td>\n",
       "                        <td id=\"T_907c4f0c_f138_11ea_87a5_9cfce813b842row1_col2\" class=\"data row1 col2\" >$15.45</td>\n",
       "            </tr>\n",
       "            <tr>\n",
       "                        <th id=\"T_907c4f0c_f138_11ea_87a5_9cfce813b842level0_row2\" class=\"row_heading level0 row2\" >Chamjask73</th>\n",
       "                        <td id=\"T_907c4f0c_f138_11ea_87a5_9cfce813b842row2_col0\" class=\"data row2 col0\" >3</td>\n",
       "                        <td id=\"T_907c4f0c_f138_11ea_87a5_9cfce813b842row2_col1\" class=\"data row2 col1\" >$4.61</td>\n",
       "                        <td id=\"T_907c4f0c_f138_11ea_87a5_9cfce813b842row2_col2\" class=\"data row2 col2\" >$13.83</td>\n",
       "            </tr>\n",
       "            <tr>\n",
       "                        <th id=\"T_907c4f0c_f138_11ea_87a5_9cfce813b842level0_row3\" class=\"row_heading level0 row3\" >Iral74</th>\n",
       "                        <td id=\"T_907c4f0c_f138_11ea_87a5_9cfce813b842row3_col0\" class=\"data row3 col0\" >4</td>\n",
       "                        <td id=\"T_907c4f0c_f138_11ea_87a5_9cfce813b842row3_col1\" class=\"data row3 col1\" >$3.40</td>\n",
       "                        <td id=\"T_907c4f0c_f138_11ea_87a5_9cfce813b842row3_col2\" class=\"data row3 col2\" >$13.62</td>\n",
       "            </tr>\n",
       "            <tr>\n",
       "                        <th id=\"T_907c4f0c_f138_11ea_87a5_9cfce813b842level0_row4\" class=\"row_heading level0 row4\" >Iskadarya95</th>\n",
       "                        <td id=\"T_907c4f0c_f138_11ea_87a5_9cfce813b842row4_col0\" class=\"data row4 col0\" >3</td>\n",
       "                        <td id=\"T_907c4f0c_f138_11ea_87a5_9cfce813b842row4_col1\" class=\"data row4 col1\" >$4.37</td>\n",
       "                        <td id=\"T_907c4f0c_f138_11ea_87a5_9cfce813b842row4_col2\" class=\"data row4 col2\" >$13.10</td>\n",
       "            </tr>\n",
       "    </tbody></table>"
      ],
      "text/plain": [
       "<pandas.io.formats.style.Styler at 0x25a9ddd2b88>"
      ]
     },
     "execution_count": 133,
     "metadata": {},
     "output_type": "execute_result"
    }
   ],
   "source": [
    "sn_group = df.groupby(['SN'])\n",
    "\n",
    "total_purch_val_sn = pd.DataFrame({\n",
    "                                    'Purchase Count' : sn_group['Price'].count(), \n",
    "                                    'Average Purchase price' : sn_group['Price'].mean(),\n",
    "                                    'Total Purchase Value' : sn_group['Price'].sum()})\n",
    "\n",
    "sorted_df = total_purch_val_sn.sort_values('Total Purchase Value', ascending=False)\n",
    "\n",
    "top_spenders = sorted_df.head()\n",
    "\n",
    "top_spenders.style.format({'Average Purchase price':'${:.2f}', 'Total Purchase Value' : '${:.2f}'}) "
   ]
  },
  {
   "cell_type": "markdown",
   "metadata": {},
   "source": [
    "## Most Popular Items"
   ]
  },
  {
   "cell_type": "markdown",
   "metadata": {},
   "source": [
    "* Retrieve the Item ID, Item Name, and Item Price columns\n",
    "\n",
    "\n",
    "* Group by Item ID and Item Name. Perform calculations to obtain purchase count, item price, and total purchase value\n",
    "\n",
    "\n",
    "* Create a summary data frame to hold the results\n",
    "\n",
    "\n",
    "* Sort the purchase count column in descending order\n",
    "\n",
    "\n",
    "* Optional: give the displayed data cleaner formatting\n",
    "\n",
    "\n",
    "* Display a preview of the summary data frame\n",
    "\n"
   ]
  },
  {
   "cell_type": "code",
   "execution_count": 134,
   "metadata": {},
   "outputs": [
    {
     "data": {
      "text/html": [
       "<style  type=\"text/css\" >\n",
       "</style><table id=\"T_907fce6e_f138_11ea_bddc_9cfce813b842\" ><thead>    <tr>        <th class=\"blank\" ></th>        <th class=\"blank level0\" ></th>        <th class=\"col_heading level0 col0\" >Purchase Count</th>        <th class=\"col_heading level0 col1\" >Item Price</th>        <th class=\"col_heading level0 col2\" >Total Purchase Value</th>    </tr>    <tr>        <th class=\"index_name level0\" >Item ID</th>        <th class=\"index_name level1\" >Item Name</th>        <th class=\"blank\" ></th>        <th class=\"blank\" ></th>        <th class=\"blank\" ></th>    </tr></thead><tbody>\n",
       "                <tr>\n",
       "                        <th id=\"T_907fce6e_f138_11ea_bddc_9cfce813b842level0_row0\" class=\"row_heading level0 row0\" >92</th>\n",
       "                        <th id=\"T_907fce6e_f138_11ea_bddc_9cfce813b842level1_row0\" class=\"row_heading level1 row0\" >Final Critic</th>\n",
       "                        <td id=\"T_907fce6e_f138_11ea_bddc_9cfce813b842row0_col0\" class=\"data row0 col0\" >13</td>\n",
       "                        <td id=\"T_907fce6e_f138_11ea_bddc_9cfce813b842row0_col1\" class=\"data row0 col1\" >$4.61</td>\n",
       "                        <td id=\"T_907fce6e_f138_11ea_bddc_9cfce813b842row0_col2\" class=\"data row0 col2\" >$59.99</td>\n",
       "            </tr>\n",
       "            <tr>\n",
       "                        <th id=\"T_907fce6e_f138_11ea_bddc_9cfce813b842level0_row1\" class=\"row_heading level0 row1\" >178</th>\n",
       "                        <th id=\"T_907fce6e_f138_11ea_bddc_9cfce813b842level1_row1\" class=\"row_heading level1 row1\" >Oathbreaker, Last Hope of the Breaking Storm</th>\n",
       "                        <td id=\"T_907fce6e_f138_11ea_bddc_9cfce813b842row1_col0\" class=\"data row1 col0\" >12</td>\n",
       "                        <td id=\"T_907fce6e_f138_11ea_bddc_9cfce813b842row1_col1\" class=\"data row1 col1\" >$4.23</td>\n",
       "                        <td id=\"T_907fce6e_f138_11ea_bddc_9cfce813b842row1_col2\" class=\"data row1 col2\" >$50.76</td>\n",
       "            </tr>\n",
       "            <tr>\n",
       "                        <th id=\"T_907fce6e_f138_11ea_bddc_9cfce813b842level0_row2\" class=\"row_heading level0 row2\" >145</th>\n",
       "                        <th id=\"T_907fce6e_f138_11ea_bddc_9cfce813b842level1_row2\" class=\"row_heading level1 row2\" >Fiery Glass Crusader</th>\n",
       "                        <td id=\"T_907fce6e_f138_11ea_bddc_9cfce813b842row2_col0\" class=\"data row2 col0\" >9</td>\n",
       "                        <td id=\"T_907fce6e_f138_11ea_bddc_9cfce813b842row2_col1\" class=\"data row2 col1\" >$4.58</td>\n",
       "                        <td id=\"T_907fce6e_f138_11ea_bddc_9cfce813b842row2_col2\" class=\"data row2 col2\" >$41.22</td>\n",
       "            </tr>\n",
       "            <tr>\n",
       "                        <th id=\"T_907fce6e_f138_11ea_bddc_9cfce813b842level0_row3\" class=\"row_heading level0 row3\" >132</th>\n",
       "                        <th id=\"T_907fce6e_f138_11ea_bddc_9cfce813b842level1_row3\" class=\"row_heading level1 row3\" >Persuasion</th>\n",
       "                        <td id=\"T_907fce6e_f138_11ea_bddc_9cfce813b842row3_col0\" class=\"data row3 col0\" >9</td>\n",
       "                        <td id=\"T_907fce6e_f138_11ea_bddc_9cfce813b842row3_col1\" class=\"data row3 col1\" >$3.22</td>\n",
       "                        <td id=\"T_907fce6e_f138_11ea_bddc_9cfce813b842row3_col2\" class=\"data row3 col2\" >$28.99</td>\n",
       "            </tr>\n",
       "            <tr>\n",
       "                        <th id=\"T_907fce6e_f138_11ea_bddc_9cfce813b842level0_row4\" class=\"row_heading level0 row4\" >108</th>\n",
       "                        <th id=\"T_907fce6e_f138_11ea_bddc_9cfce813b842level1_row4\" class=\"row_heading level1 row4\" >Extraction, Quickblade Of Trembling Hands</th>\n",
       "                        <td id=\"T_907fce6e_f138_11ea_bddc_9cfce813b842row4_col0\" class=\"data row4 col0\" >9</td>\n",
       "                        <td id=\"T_907fce6e_f138_11ea_bddc_9cfce813b842row4_col1\" class=\"data row4 col1\" >$3.53</td>\n",
       "                        <td id=\"T_907fce6e_f138_11ea_bddc_9cfce813b842row4_col2\" class=\"data row4 col2\" >$31.77</td>\n",
       "            </tr>\n",
       "    </tbody></table>"
      ],
      "text/plain": [
       "<pandas.io.formats.style.Styler at 0x25a9df07988>"
      ]
     },
     "execution_count": 134,
     "metadata": {},
     "output_type": "execute_result"
    }
   ],
   "source": [
    "item_group = df.groupby(['Item ID', 'Item Name'])\n",
    "\n",
    "item_df = pd.DataFrame({\n",
    "                        'Purchase Count' : item_group['Price'].count(), \n",
    "                        'Item Price' : item_group['Price'].sum()/item_group['Price'].count(),\n",
    "                        'Total Purchase Value' : item_group['Price'].sum()})\n",
    "\n",
    "count_sorted_df = item_df.sort_values('Purchase Count', ascending=False)\n",
    "\n",
    "most_popular = count_sorted_df.head()\n",
    "\n",
    "most_popular.style.format({'Item Price' : \"${:.2f}\", 'Total Purchase Value' : '${:.2f}'})"
   ]
  },
  {
   "cell_type": "markdown",
   "metadata": {},
   "source": [
    "## Most Profitable Items"
   ]
  },
  {
   "cell_type": "markdown",
   "metadata": {},
   "source": [
    "* Sort the above table by total purchase value in descending order\n",
    "\n",
    "\n",
    "* Optional: give the displayed data cleaner formatting\n",
    "\n",
    "\n",
    "* Display a preview of the data frame\n",
    "\n"
   ]
  },
  {
   "cell_type": "code",
   "execution_count": 135,
   "metadata": {
    "scrolled": true
   },
   "outputs": [
    {
     "data": {
      "text/html": [
       "<style  type=\"text/css\" >\n",
       "</style><table id=\"T_90830000_f138_11ea_9fdf_9cfce813b842\" ><thead>    <tr>        <th class=\"blank\" ></th>        <th class=\"blank level0\" ></th>        <th class=\"col_heading level0 col0\" >Purchase Count</th>        <th class=\"col_heading level0 col1\" >Item Price</th>        <th class=\"col_heading level0 col2\" >Total Purchase Value</th>    </tr>    <tr>        <th class=\"index_name level0\" >Item ID</th>        <th class=\"index_name level1\" >Item Name</th>        <th class=\"blank\" ></th>        <th class=\"blank\" ></th>        <th class=\"blank\" ></th>    </tr></thead><tbody>\n",
       "                <tr>\n",
       "                        <th id=\"T_90830000_f138_11ea_9fdf_9cfce813b842level0_row0\" class=\"row_heading level0 row0\" >92</th>\n",
       "                        <th id=\"T_90830000_f138_11ea_9fdf_9cfce813b842level1_row0\" class=\"row_heading level1 row0\" >Final Critic</th>\n",
       "                        <td id=\"T_90830000_f138_11ea_9fdf_9cfce813b842row0_col0\" class=\"data row0 col0\" >13</td>\n",
       "                        <td id=\"T_90830000_f138_11ea_9fdf_9cfce813b842row0_col1\" class=\"data row0 col1\" >$4.61</td>\n",
       "                        <td id=\"T_90830000_f138_11ea_9fdf_9cfce813b842row0_col2\" class=\"data row0 col2\" >$59.99</td>\n",
       "            </tr>\n",
       "            <tr>\n",
       "                        <th id=\"T_90830000_f138_11ea_9fdf_9cfce813b842level0_row1\" class=\"row_heading level0 row1\" >178</th>\n",
       "                        <th id=\"T_90830000_f138_11ea_9fdf_9cfce813b842level1_row1\" class=\"row_heading level1 row1\" >Oathbreaker, Last Hope of the Breaking Storm</th>\n",
       "                        <td id=\"T_90830000_f138_11ea_9fdf_9cfce813b842row1_col0\" class=\"data row1 col0\" >12</td>\n",
       "                        <td id=\"T_90830000_f138_11ea_9fdf_9cfce813b842row1_col1\" class=\"data row1 col1\" >$4.23</td>\n",
       "                        <td id=\"T_90830000_f138_11ea_9fdf_9cfce813b842row1_col2\" class=\"data row1 col2\" >$50.76</td>\n",
       "            </tr>\n",
       "            <tr>\n",
       "                        <th id=\"T_90830000_f138_11ea_9fdf_9cfce813b842level0_row2\" class=\"row_heading level0 row2\" >82</th>\n",
       "                        <th id=\"T_90830000_f138_11ea_9fdf_9cfce813b842level1_row2\" class=\"row_heading level1 row2\" >Nirvana</th>\n",
       "                        <td id=\"T_90830000_f138_11ea_9fdf_9cfce813b842row2_col0\" class=\"data row2 col0\" >9</td>\n",
       "                        <td id=\"T_90830000_f138_11ea_9fdf_9cfce813b842row2_col1\" class=\"data row2 col1\" >$4.90</td>\n",
       "                        <td id=\"T_90830000_f138_11ea_9fdf_9cfce813b842row2_col2\" class=\"data row2 col2\" >$44.10</td>\n",
       "            </tr>\n",
       "            <tr>\n",
       "                        <th id=\"T_90830000_f138_11ea_9fdf_9cfce813b842level0_row3\" class=\"row_heading level0 row3\" >145</th>\n",
       "                        <th id=\"T_90830000_f138_11ea_9fdf_9cfce813b842level1_row3\" class=\"row_heading level1 row3\" >Fiery Glass Crusader</th>\n",
       "                        <td id=\"T_90830000_f138_11ea_9fdf_9cfce813b842row3_col0\" class=\"data row3 col0\" >9</td>\n",
       "                        <td id=\"T_90830000_f138_11ea_9fdf_9cfce813b842row3_col1\" class=\"data row3 col1\" >$4.58</td>\n",
       "                        <td id=\"T_90830000_f138_11ea_9fdf_9cfce813b842row3_col2\" class=\"data row3 col2\" >$41.22</td>\n",
       "            </tr>\n",
       "            <tr>\n",
       "                        <th id=\"T_90830000_f138_11ea_9fdf_9cfce813b842level0_row4\" class=\"row_heading level0 row4\" >103</th>\n",
       "                        <th id=\"T_90830000_f138_11ea_9fdf_9cfce813b842level1_row4\" class=\"row_heading level1 row4\" >Singed Scalpel</th>\n",
       "                        <td id=\"T_90830000_f138_11ea_9fdf_9cfce813b842row4_col0\" class=\"data row4 col0\" >8</td>\n",
       "                        <td id=\"T_90830000_f138_11ea_9fdf_9cfce813b842row4_col1\" class=\"data row4 col1\" >$4.35</td>\n",
       "                        <td id=\"T_90830000_f138_11ea_9fdf_9cfce813b842row4_col2\" class=\"data row4 col2\" >$34.80</td>\n",
       "            </tr>\n",
       "    </tbody></table>"
      ],
      "text/plain": [
       "<pandas.io.formats.style.Styler at 0x25a9df01fc8>"
      ]
     },
     "execution_count": 135,
     "metadata": {},
     "output_type": "execute_result"
    }
   ],
   "source": [
    "profit_sorted_df = item_df.sort_values('Total Purchase Value', ascending=False)\n",
    "\n",
    "most_profitable = profit_sorted_df.head()\n",
    "\n",
    "most_profitable.style.format({'Item Price' : \"${:.2f}\", 'Total Purchase Value' : '${:.2f}'})"
   ]
  }
 ],
 "metadata": {
  "anaconda-cloud": {},
  "kernel_info": {
   "name": "python3"
  },
  "kernelspec": {
   "display_name": "Python 3",
   "language": "python",
   "name": "python3"
  },
  "language_info": {
   "codemirror_mode": {
    "name": "ipython",
    "version": 3
   },
   "file_extension": ".py",
   "mimetype": "text/x-python",
   "name": "python",
   "nbconvert_exporter": "python",
   "pygments_lexer": "ipython3",
   "version": "3.7.6"
  },
  "latex_envs": {
   "LaTeX_envs_menu_present": true,
   "autoclose": false,
   "autocomplete": true,
   "bibliofile": "biblio.bib",
   "cite_by": "apalike",
   "current_citInitial": 1,
   "eqLabelWithNumbers": true,
   "eqNumInitial": 1,
   "hotkeys": {
    "equation": "Ctrl-E",
    "itemize": "Ctrl-I"
   },
   "labels_anchors": false,
   "latex_user_defs": false,
   "report_style_numbering": false,
   "user_envs_cfg": false
  },
  "nteract": {
   "version": "0.2.0"
  }
 },
 "nbformat": 4,
 "nbformat_minor": 4
}
